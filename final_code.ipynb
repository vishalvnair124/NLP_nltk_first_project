{
 "cells": [
  {
   "cell_type": "code",
   "execution_count": 1,
   "id": "b978df11-f12d-4526-aa91-1effe507a89d",
   "metadata": {},
   "outputs": [
    {
     "name": "stderr",
     "output_type": "stream",
     "text": [
      "[nltk_data] Downloading package punkt to\n",
      "[nltk_data]     C:\\Users\\acer\\AppData\\Roaming\\nltk_data...\n",
      "[nltk_data]   Package punkt is already up-to-date!\n",
      "[nltk_data] Downloading package stopwords to\n",
      "[nltk_data]     C:\\Users\\acer\\AppData\\Roaming\\nltk_data...\n",
      "[nltk_data]   Package stopwords is already up-to-date!\n",
      "[nltk_data] Downloading package wordnet to\n",
      "[nltk_data]     C:\\Users\\acer\\AppData\\Roaming\\nltk_data...\n",
      "[nltk_data]   Package wordnet is already up-to-date!\n"
     ]
    }
   ],
   "source": [
    "import nltk\n",
    "import pickle\n",
    "from nltk.tokenize import word_tokenize\n",
    "from nltk.corpus import stopwords\n",
    "from nltk.stem import WordNetLemmatizer\n",
    "\n",
    "# Ensure nltk resources are downloaded\n",
    "nltk.download('punkt')\n",
    "nltk.download('stopwords')\n",
    "nltk.download('wordnet')\n",
    "\n",
    "# Initialize stopwords and lemmatizer\n",
    "stop_words = set(stopwords.words('english'))\n",
    "lemmatizer = WordNetLemmatizer()\n",
    "\n",
    "# Function to preprocess text\n",
    "def preprocess_text(text):\n",
    "    tokens = word_tokenize(text)\n",
    "    tokens = [word.lower() for word in tokens if word.lower() not in stop_words]\n",
    "    tokens = [lemmatizer.lemmatize(word) for word in tokens]\n",
    "    return ' '.join(tokens)\n",
    "\n",
    "# Load the model and vectorizer\n",
    "def load_model():\n",
    "    with open('model.pkl', 'rb') as model_file:\n",
    "        model = pickle.load(model_file)\n",
    "    with open('vectorizer.pkl', 'rb') as vectorizer_file:\n",
    "        vectorizer = pickle.load(vectorizer_file)\n",
    "    return vectorizer, model\n",
    "\n",
    "# Function to classify the email\n",
    "def classify_email(email_content):\n",
    "    # Preprocess the input email\n",
    "    preprocessed_email = preprocess_text(email_content)\n",
    "\n",
    "    # Vectorize the input email\n",
    "    email_tfidf = vectorizer.transform([preprocessed_email])\n",
    "\n",
    "    # Make a prediction\n",
    "    prediction = model.predict(email_tfidf)\n",
    "    result = \"SPAM\" if prediction[0] == 1 else \"NOT SPAM\"\n",
    "\n",
    "    return result\n",
    "\n",
    "# Load the model and vectorizer\n",
    "vectorizer, model = load_model()\n",
    "\n",
    "\n"
   ]
  },
  {
   "cell_type": "code",
   "execution_count": 25,
   "id": "db1ee6db-f5b8-4dc8-ac1f-94838b8bd4ac",
   "metadata": {},
   "outputs": [
    {
     "name": "stdout",
     "output_type": "stream",
     "text": [
      "The email is classified as: NOT SPAM\n"
     ]
    }
   ],
   "source": [
    "# Get input from the user\n",
    "email_content = \"\"\"\n",
    "Subject: Invitation to the Annual Company Retreat\n",
    "\n",
    "Hi Alice,\n",
    "\n",
    "We’re excited to invite you to our Annual Company Retreat, taking place from October 15th to October 17th at Pinewood Lodge. This is a great opportunity to unwind, connect with your colleagues, and participate in team-building activities.\n",
    "\n",
    "Please RSVP by September 30th so we can finalize the arrangements.\n",
    "\n",
    "Looking forward to seeing you there!\n",
    "\n",
    "Best regards,\n",
    "Michael Stevens\n",
    "HR Coordinator,\n",
    "TechMasters\n",
    "michael.stevens@techmasters.com\n",
    "\"\"\"\n",
    "\n",
    "# Classify the email\n",
    "result = classify_email(email_content)\n",
    "\n",
    "# Display the result\n",
    "print(f\"The email is classified as: {result}\")"
   ]
  },
  {
   "cell_type": "code",
   "execution_count": null,
   "id": "0eee4730-9736-4af0-8d84-ae6cb17f4ed7",
   "metadata": {},
   "outputs": [],
   "source": []
  }
 ],
 "metadata": {
  "kernelspec": {
   "display_name": "Python 3 (ipykernel)",
   "language": "python",
   "name": "python3"
  },
  "language_info": {
   "codemirror_mode": {
    "name": "ipython",
    "version": 3
   },
   "file_extension": ".py",
   "mimetype": "text/x-python",
   "name": "python",
   "nbconvert_exporter": "python",
   "pygments_lexer": "ipython3",
   "version": "3.12.4"
  }
 },
 "nbformat": 4,
 "nbformat_minor": 5
}
